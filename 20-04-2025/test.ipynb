{
 "cells": [
  {
   "cell_type": "code",
   "execution_count": 3,
   "id": "75fe4edd",
   "metadata": {},
   "outputs": [
    {
     "name": "stdout",
     "output_type": "stream",
     "text": [
      "monal\n",
      "monalk\n",
      "mona\n"
     ]
    }
   ],
   "source": [
    "a = [\"monal\", \"monalk\", \"mona\", \"vivek\", \"krish\", \"lucas\", \"Mahendra\"]\n",
    "\n",
    "for name in a:  \n",
    "    if \"m\" in name: # character to character comparison\n",
    "        print(name)"
   ]
  },
  {
   "cell_type": "code",
   "execution_count": 4,
   "id": "a441b8c5",
   "metadata": {},
   "outputs": [
    {
     "name": "stdout",
     "output_type": "stream",
     "text": [
      "monal\n",
      "monalk\n",
      "mona\n",
      "Mahendra\n"
     ]
    }
   ],
   "source": [
    "a = [\"monal\", \"monalk\", \"mona\", \"vivek\", \"krish\", \"lucas\", \"Mahendra\"]\n",
    "\n",
    "for name in a:  \n",
    "    if \"m\" in name.lower(): # character to character comparison\n",
    "        print(name)"
   ]
  },
  {
   "cell_type": "code",
   "execution_count": 5,
   "id": "59ab1b21",
   "metadata": {},
   "outputs": [
    {
     "data": {
      "text/plain": [
       "'c:\\\\Users\\\\vivek\\\\OneDrive-Vivek_Yahoo\\\\Desktop\\\\KrishNaik AI\\\\Python\\\\Mastering Python\\\\20-04-2025'"
      ]
     },
     "execution_count": 5,
     "metadata": {},
     "output_type": "execute_result"
    }
   ],
   "source": [
    "import os\n",
    "os.getcwd()\n"
   ]
  },
  {
   "cell_type": "code",
   "execution_count": 8,
   "id": "36734c20",
   "metadata": {},
   "outputs": [
    {
     "data": {
      "text/plain": [
       "['05-04-2025',\n",
       " '06-04-2025',\n",
       " '12-04-2025',\n",
       " '13-04-2025',\n",
       " '19-04-2025',\n",
       " '20-04-2025',\n",
       " '30-03-2025']"
      ]
     },
     "execution_count": 8,
     "metadata": {},
     "output_type": "execute_result"
    }
   ],
   "source": [
    "os.listdir(r\"c:\\\\Users\\\\vivek\\\\OneDrive-Vivek_Yahoo\\\\Desktop\\\\KrishNaik AI\\\\Python\\\\Mastering Python\")"
   ]
  },
  {
   "cell_type": "code",
   "execution_count": 14,
   "id": "ad305e92",
   "metadata": {},
   "outputs": [
    {
     "data": {
      "text/plain": [
       "['test.ipynb']"
      ]
     },
     "execution_count": 14,
     "metadata": {},
     "output_type": "execute_result"
    }
   ],
   "source": [
    "os.listdir(r\"c:\\\\Users\\\\vivek\\\\OneDrive-Vivek_Yahoo\\\\Desktop\\\\KrishNaik AI\\\\Python\\\\Mastering Python\\\\20-04-2025\")"
   ]
  },
  {
   "cell_type": "code",
   "execution_count": 19,
   "id": "cf8ad2d5",
   "metadata": {},
   "outputs": [
    {
     "ename": "SyntaxError",
     "evalue": "invalid syntax. Perhaps you forgot a comma? (1863119134.py, line 1)",
     "output_type": "error",
     "traceback": [
      "\u001b[1;36m  Cell \u001b[1;32mIn[19], line 1\u001b[1;36m\u001b[0m\n\u001b[1;33m    os.listdir(r c:\\\\Users\\\\vivek\\\\OneDrive-Vivek_Yahoo\\\\Desktop\\\\KrishNaik AI\\\\Python\\\\Mastering Python\\\\20-04-2025\", \"test\")\u001b[0m\n\u001b[1;37m               ^\u001b[0m\n\u001b[1;31mSyntaxError\u001b[0m\u001b[1;31m:\u001b[0m invalid syntax. Perhaps you forgot a comma?\n"
     ]
    }
   ],
   "source": [
    "os.listdir(r c:\\\\Users\\\\vivek\\\\OneDrive-Vivek_Yahoo\\\\Desktop\\\\KrishNaik AI\\\\Python\\\\Mastering Python\\\\20-04-2025\", \"test\")"
   ]
  }
 ],
 "metadata": {
  "kernelspec": {
   "display_name": "base",
   "language": "python",
   "name": "python3"
  },
  "language_info": {
   "codemirror_mode": {
    "name": "ipython",
    "version": 3
   },
   "file_extension": ".py",
   "mimetype": "text/x-python",
   "name": "python",
   "nbconvert_exporter": "python",
   "pygments_lexer": "ipython3",
   "version": "3.12.7"
  }
 },
 "nbformat": 4,
 "nbformat_minor": 5
}
