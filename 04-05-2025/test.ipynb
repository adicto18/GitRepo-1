{
 "cells": [
  {
   "cell_type": "code",
   "execution_count": 11,
   "id": "ac657f5f",
   "metadata": {},
   "outputs": [],
   "source": [
    "class B:\n",
    "    def greet(self):\n",
    "        print(\"hello from B\")\n",
    "class C:\n",
    "    def greet(self):\n",
    "        print(\"hello from C\")\n",
    "\n",
    "class A(B,C):\n",
    "    def greet(self):\n",
    "        super().greet()\n",
    "        print(\"hellow from A\")\n"
   ]
  },
  {
   "cell_type": "code",
   "execution_count": null,
   "id": "1f60535f",
   "metadata": {},
   "outputs": [
    {
     "name": "stdout",
     "output_type": "stream",
     "text": [
      "hello from B\n",
      "hellow from A\n"
     ]
    }
   ],
   "source": [
    "obj_a=A()\n",
    "obj_a.greet() "
   ]
  },
  {
   "cell_type": "code",
   "execution_count": 7,
   "id": "698926cd",
   "metadata": {},
   "outputs": [
    {
     "name": "stdout",
     "output_type": "stream",
     "text": [
      "[<class '__main__.A'>, <class '__main__.B'>, <class '__main__.C'>, <class 'object'>]\n"
     ]
    }
   ],
   "source": [
    "print(A.mro())"
   ]
  },
  {
   "cell_type": "markdown",
   "id": "6329f27b",
   "metadata": {},
   "source": [
    "# Decorator"
   ]
  },
  {
   "cell_type": "code",
   "execution_count": 20,
   "id": "c7e87e17",
   "metadata": {},
   "outputs": [],
   "source": [
    "def my_dec(func):\n",
    "    def wrap():\n",
    "        print(\"before the function run.\")\n",
    "        func()\n",
    "        print(\"after the function runs\")\n",
    "    return wrap"
   ]
  },
  {
   "cell_type": "code",
   "execution_count": 26,
   "id": "54de3045",
   "metadata": {},
   "outputs": [],
   "source": [
    "@my_dec\n",
    "def say_hello():\n",
    "    print(\"hello\")"
   ]
  },
  {
   "cell_type": "code",
   "execution_count": 27,
   "id": "36f45d8d",
   "metadata": {},
   "outputs": [
    {
     "name": "stdout",
     "output_type": "stream",
     "text": [
      "before the function run.\n",
      "hello\n",
      "after the function runs\n"
     ]
    }
   ],
   "source": [
    "say_hello()"
   ]
  },
  {
   "cell_type": "markdown",
   "id": "8e3844d0",
   "metadata": {},
   "source": [
    "# time.strftime(format,t)\n",
    "%M- Minutes\n",
    "%m- month\n",
    "%d-date\n",
    "%Y-Year\n",
    "%H-hour\n",
    "%"
   ]
  },
  {
   "cell_type": "code",
   "execution_count": null,
   "id": "2e777995",
   "metadata": {},
   "outputs": [
    {
     "name": "stderr",
     "output_type": "stream",
     "text": [
      "\n",
      "KeyboardInterrupt\n",
      "\n"
     ]
    }
   ],
   "source": [
    "print(time.strftime(\"%y-%m-%d %H-%M:%S\", time.localtime()))"
   ]
  }
 ],
 "metadata": {
  "kernelspec": {
   "display_name": "base",
   "language": "python",
   "name": "python3"
  },
  "language_info": {
   "codemirror_mode": {
    "name": "ipython",
    "version": 3
   },
   "file_extension": ".py",
   "mimetype": "text/x-python",
   "name": "python",
   "nbconvert_exporter": "python",
   "pygments_lexer": "ipython3",
   "version": "3.12.7"
  }
 },
 "nbformat": 4,
 "nbformat_minor": 5
}
