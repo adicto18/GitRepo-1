{
 "cells": [
  {
   "cell_type": "markdown",
   "id": "374ddb2c",
   "metadata": {},
   "source": [
    "# iterables\n"
   ]
  },
  {
   "cell_type": "code",
   "execution_count": 24,
   "id": "61bb4d5e",
   "metadata": {},
   "outputs": [],
   "source": [
    "fruits = [\"apples\", \"orng\", \"gapes\"]\n",
    "iterable =  iter(fruits)\n",
    "#iterables can be done with strings, list\n"
   ]
  },
  {
   "cell_type": "code",
   "execution_count": 21,
   "id": "f762ca03",
   "metadata": {},
   "outputs": [
    {
     "name": "stdout",
     "output_type": "stream",
     "text": [
      "gapes\n"
     ]
    }
   ],
   "source": [
    "print(next(iterable))"
   ]
  },
  {
   "cell_type": "code",
   "execution_count": 25,
   "id": "6cb24ae0",
   "metadata": {},
   "outputs": [
    {
     "name": "stdout",
     "output_type": "stream",
     "text": [
      "apples\n",
      "orng\n",
      "gapes\n"
     ]
    }
   ],
   "source": [
    "#for loop\n",
    "\n",
    "for fal in fruits:\n",
    "    print(fal)"
   ]
  },
  {
   "cell_type": "markdown",
   "id": "31e2b33d",
   "metadata": {},
   "source": [
    "# For loop syntex: temp_varible in iterable"
   ]
  },
  {
   "cell_type": "code",
   "execution_count": 46,
   "id": "8fb0169f",
   "metadata": {},
   "outputs": [],
   "source": [
    "fruits = [\"apple\",\"oranges\",\"banana\", 12,[1,2,4],(),{},2.7]"
   ]
  },
  {
   "cell_type": "code",
   "execution_count": 48,
   "id": "a07091cc",
   "metadata": {},
   "outputs": [
    {
     "name": "stdout",
     "output_type": "stream",
     "text": [
      "traversing started\n",
      "apple\n",
      "<class 'str'>\n",
      "list['apple']\n",
      "oranges\n",
      "<class 'str'>\n",
      "list['oranges']\n",
      "banana\n",
      "<class 'str'>\n",
      "list['banana']\n",
      "12\n",
      "<class 'int'>\n",
      "list[12]\n",
      "[1, 2, 4]\n",
      "<class 'list'>\n",
      "list[[1, 2, 4]]\n",
      "()\n",
      "<class 'tuple'>\n",
      "list[()]\n",
      "{}\n",
      "<class 'dict'>\n",
      "list[{}]\n",
      "2.7\n",
      "<class 'float'>\n",
      "list[2.7]\n",
      "traversing done\n"
     ]
    }
   ],
   "source": [
    "print(\"traversing started\")\n",
    "for i in fruits:\n",
    "    print(i)\n",
    "    print(type(i))\n",
    "    i=list[i]\n",
    "    print(i)\n",
    "print(\"traversing done\")"
   ]
  },
  {
   "cell_type": "code",
   "execution_count": 53,
   "id": "ce03bc7c",
   "metadata": {},
   "outputs": [
    {
     "name": "stdout",
     "output_type": "stream",
     "text": [
      "2\n",
      "4\n",
      "6\n",
      "8\n",
      "10\n",
      "12\n",
      "14\n",
      "16\n",
      "18\n",
      "20\n"
     ]
    }
   ],
   "source": [
    "table_of_2=[1,2,3,4,5,6,7,8,9,10]\n",
    "for i in table_of_2:\n",
    "    print(i*2)"
   ]
  },
  {
   "cell_type": "code",
   "execution_count": 57,
   "id": "e1d9cc61",
   "metadata": {},
   "outputs": [
    {
     "name": "stdout",
     "output_type": "stream",
     "text": [
      "1\n",
      "<class 'int'>\n",
      "2\n",
      "3\n",
      "<class 'int'>\n",
      "6\n",
      "5\n",
      "<class 'int'>\n",
      "10\n",
      "7\n",
      "<class 'int'>\n",
      "14\n",
      "9\n",
      "<class 'int'>\n",
      "18\n",
      "11\n",
      "<class 'int'>\n",
      "22\n"
     ]
    }
   ],
   "source": [
    "for i in range(1,12,2):\n",
    "\n",
    "    print(i)\n",
    "    print(type(i))\n",
    "    print(i*2)"
   ]
  },
  {
   "cell_type": "markdown",
   "id": "aa24d0df",
   "metadata": {},
   "source": [
    "#### str can be iterated"
   ]
  },
  {
   "cell_type": "code",
   "execution_count": 61,
   "id": "062cd8fc",
   "metadata": {},
   "outputs": [
    {
     "name": "stdout",
     "output_type": "stream",
     "text": [
      "h\n",
      "e\n",
      "l\n",
      "l\n",
      "o\n"
     ]
    }
   ],
   "source": [
    "for i in \"hello\":\n",
    "    print(i)"
   ]
  },
  {
   "cell_type": "code",
   "execution_count": null,
   "id": "e6794c9c",
   "metadata": {},
   "outputs": [],
   "source": [
    "emp_details = {\n",
    "               1 : [\"monal\", \"india\"], \n",
    "               2 : [\"lucas\", \"brazil\"],\n",
    "               3 : [\"ashar\", \"Saudi arabia\", 2],\n",
    "               4 : [\"riyan\", \"india\"],\n",
    "               \"hello\" : \"hello\"\n",
    "               }"
   ]
  },
  {
   "cell_type": "code",
   "execution_count": 100,
   "id": "353887f3",
   "metadata": {},
   "outputs": [
    {
     "name": "stdout",
     "output_type": "stream",
     "text": [
      "['monal', 'india']\n",
      "dict_keys([1, 2, 3, 4, 'hello'])\n",
      "['monal', 'india']\n",
      "['lucas', 'brazil']\n",
      "['ashar', 'Saudi arabia', 2]\n",
      "['riyan', 'india']\n",
      "hello\n"
     ]
    }
   ],
   "source": [
    "print(emp_details[1])\n",
    "print(emp_details.keys())\n",
    "#for i in emp_details.keys():\n",
    "    #print(emp_details[i])\n",
    "for i in emp_details:\n",
    "    print(emp_details[i])"
   ]
  },
  {
   "cell_type": "code",
   "execution_count": null,
   "id": "e486ef6a",
   "metadata": {},
   "outputs": [],
   "source": [
    "'''\n",
    "*\n",
    "**\n",
    "***\n",
    "****\n",
    "*****\n",
    "'''"
   ]
  },
  {
   "cell_type": "code",
   "execution_count": 106,
   "id": "83c10ed9",
   "metadata": {},
   "outputs": [
    {
     "name": "stdout",
     "output_type": "stream",
     "text": [
      "1\n",
      "*\n",
      "2\n",
      "**\n",
      "3\n",
      "***\n",
      "4\n",
      "****\n",
      "5\n",
      "*****\n"
     ]
    }
   ],
   "source": [
    "for i in range(1,6):\n",
    "    print(i)\n",
    "    print(\"*\"*i)"
   ]
  },
  {
   "cell_type": "code",
   "execution_count": 124,
   "id": "8a632d74",
   "metadata": {},
   "outputs": [
    {
     "name": "stdout",
     "output_type": "stream",
     "text": [
      "--*\n",
      "-**\n",
      "***\n"
     ]
    }
   ],
   "source": [
    "max = 3\n",
    "for i in range(2,-1,-1):\n",
    "    print(i*\"-\",end=(\"\"))\n",
    "    print((max-i)*\"*\")"
   ]
  },
  {
   "cell_type": "code",
   "execution_count": 138,
   "id": "806b4bbe",
   "metadata": {},
   "outputs": [
    {
     "name": "stdout",
     "output_type": "stream",
     "text": [
      "--*\n",
      "-**\n",
      "***\n"
     ]
    }
   ],
   "source": [
    "fixed=3\n",
    "for i in range(1,4):\n",
    "    print((fixed-i)*(\"-\"),end=\"\")\n",
    "    print(i*(\"*\"))"
   ]
  },
  {
   "cell_type": "code",
   "execution_count": 157,
   "id": "6e272c99",
   "metadata": {},
   "outputs": [
    {
     "name": "stdout",
     "output_type": "stream",
     "text": [
      "student_id: 2\n",
      "student_id: 5\n",
      "student_id: 6\n",
      "student_id: 7\n",
      "student_id: 8\n",
      "student_id: 9\n"
     ]
    }
   ],
   "source": [
    "\"\"\"\"\n",
    "++++++++problem statement+++++++++\n",
    "1) list down the 10 student ids\n",
    "2) exlude the defaulter student with student id 6\n",
    "3) student_id=[10,1,3,4] defaulter\n",
    "4) Continue to skip to print\n",
    "\"\"\"\n",
    "student_id=[10,1,3,4]\n",
    "for i in range(1,11,1):\n",
    "    if i in student_id:\n",
    "        continue\n",
    "    print(\"student_id:\",i)"
   ]
  },
  {
   "cell_type": "code",
   "execution_count": 197,
   "id": "3466d8c3",
   "metadata": {},
   "outputs": [
    {
     "ename": "SyntaxError",
     "evalue": "invalid syntax (1652021469.py, line 2)",
     "output_type": "error",
     "traceback": [
      "\u001b[1;36m  Cell \u001b[1;32mIn[197], line 2\u001b[1;36m\u001b[0m\n\u001b[1;33m    for i in range(4,8,): for j in range(1,8,2):\u001b[0m\n\u001b[1;37m                          ^\u001b[0m\n\u001b[1;31mSyntaxError\u001b[0m\u001b[1;31m:\u001b[0m invalid syntax\n"
     ]
    }
   ],
   "source": [
    "fixed=7\n",
    "for i in range(4,8,): for j in range(1,8,2):\n",
    "print(i,j)\n",
    " \n",
    "  "
   ]
  },
  {
   "cell_type": "code",
   "execution_count": 202,
   "id": "32db612e",
   "metadata": {},
   "outputs": [
    {
     "name": "stdout",
     "output_type": "stream",
     "text": [
      "<class 'dict'>\n"
     ]
    },
    {
     "ename": "TypeError",
     "evalue": "'dict' object is not callable",
     "output_type": "error",
     "traceback": [
      "\u001b[1;31m---------------------------------------------------------------------------\u001b[0m",
      "\u001b[1;31mTypeError\u001b[0m                                 Traceback (most recent call last)",
      "Cell \u001b[1;32mIn[202], line 4\u001b[0m\n\u001b[0;32m      2\u001b[0m Bob\u001b[38;5;241m=\u001b[39m {\u001b[38;5;124m\"\u001b[39m\u001b[38;5;124mmath\u001b[39m\u001b[38;5;124m\"\u001b[39m: \u001b[38;5;241m78\u001b[39m, \u001b[38;5;124m\"\u001b[39m\u001b[38;5;124mscience\u001b[39m\u001b[38;5;124m\"\u001b[39m: \u001b[38;5;241m92\u001b[39m}\n\u001b[0;32m      3\u001b[0m \u001b[38;5;28mprint\u001b[39m(\u001b[38;5;28mtype\u001b[39m(Alice))\n\u001b[1;32m----> 4\u001b[0m \u001b[38;5;28mprint\u001b[39m(Alice(\u001b[38;5;241m1\u001b[39m))\n",
      "\u001b[1;31mTypeError\u001b[0m: 'dict' object is not callable"
     ]
    }
   ],
   "source": [
    "\n",
    "  Alice= {\"math\": 90, \"science\": 85}\n",
    "  Bob= {\"math\": 78, \"science\": 92}\n",
    "print(type(Alice))\n",
    "print(Alice(1))\n"
   ]
  },
  {
   "cell_type": "code",
   "execution_count": null,
   "id": "8aae8c61",
   "metadata": {},
   "outputs": [],
   "source": [
    "sentence = \"hello world hello\"\n",
    "words = sentence.split()\n",
    "word_count = {}\n",
    "\n",
    "for word in words:\n",
    "    word_count[word] = word_count.get(word, 0) + 1\n",
    "\n",
    "print(word_count)\n"
   ]
  },
  {
   "cell_type": "code",
   "execution_count": 215,
   "id": "1db7d0c0",
   "metadata": {},
   "outputs": [
    {
     "name": "stdout",
     "output_type": "stream",
     "text": [
      "Alice's number is 1234\n",
      "Alice phone number is 1234\n"
     ]
    }
   ],
   "source": [
    "phonebook = {'Alice': '1234', 'Bob': '5678'}\n",
    "name = input(\"Enter name to lookup: \")\n",
    "\n",
    "if name in phonebook:\n",
    "    print(f\"{name}'s number is {phonebook[name]}\")\n",
    "    print(name, \"phone number is\",phonebook[name])\n",
    "else:\n",
    "    print(\"Name not found.\")\n"
   ]
  },
  {
   "cell_type": "markdown",
   "id": "822cb7be",
   "metadata": {},
   "source": []
  },
  {
   "cell_type": "markdown",
   "id": "f09db85e",
   "metadata": {},
   "source": [
    "Count Words in a Sentence\n",
    "\n",
    "Input: \"hello world hello\"\n",
    "\n",
    "Output: {'hello': 2, 'world': 1}\n",
    "(Use a dictionary to count how many times each word appears.)"
   ]
  },
  {
   "cell_type": "code",
   "execution_count": 220,
   "id": "1ab7e3a8",
   "metadata": {},
   "outputs": [
    {
     "name": "stdout",
     "output_type": "stream",
     "text": [
      "<class 'str'>\n",
      "<class 'list'>\n",
      "['hello', 'world', 'hello']\n"
     ]
    }
   ],
   "source": [
    "sentence = \"hello world hello\"\n",
    "print(type(sentence))\n",
    "words= sentence.split()\n",
    "print(type(words))\n",
    "print(words)"
   ]
  },
  {
   "cell_type": "code",
   "execution_count": 280,
   "id": "f16a778c",
   "metadata": {},
   "outputs": [
    {
     "name": "stdout",
     "output_type": "stream",
     "text": [
      "['hello', 'world', 'hello']\n",
      "<class 'dict'>\n",
      "{'hello': 2, 'world': 1}\n"
     ]
    }
   ],
   "source": [
    "sentence = \"hello world hello\"\n",
    "#split() breakdown the string to list of words \n",
    "words = sentence.split()\n",
    "print(words)\n",
    "word_count = {}\n",
    "print(type(word_count))\n",
    "\n",
    "for word in words:\n",
    "    word_count[word] = word_count.get(word, 0) + 1\n",
    "\n",
    "print(word_count)\n"
   ]
  },
  {
   "cell_type": "code",
   "execution_count": 240,
   "id": "b33fd570",
   "metadata": {},
   "outputs": [
    {
     "ename": "NameError",
     "evalue": "name 'p' is not defined",
     "output_type": "error",
     "traceback": [
      "\u001b[1;31m---------------------------------------------------------------------------\u001b[0m",
      "\u001b[1;31mNameError\u001b[0m                                 Traceback (most recent call last)",
      "Cell \u001b[1;32mIn[240], line 3\u001b[0m\n\u001b[0;32m      1\u001b[0m word_count \u001b[38;5;241m=\u001b[39m {\u001b[38;5;124m'\u001b[39m\u001b[38;5;124mhello\u001b[39m\u001b[38;5;124m'\u001b[39m: \u001b[38;5;241m2\u001b[39m, \u001b[38;5;124m'\u001b[39m\u001b[38;5;124mworld\u001b[39m\u001b[38;5;124m'\u001b[39m: \u001b[38;5;241m1\u001b[39m}\n\u001b[1;32m----> 3\u001b[0m p\n",
      "\u001b[1;31mNameError\u001b[0m: name 'p' is not defined"
     ]
    }
   ],
   "source": [
    "word_count = {'hello': 2, 'world': 1}\n",
    "\n",
    "p"
   ]
  },
  {
   "cell_type": "markdown",
   "id": "b1a3b48a",
   "metadata": {},
   "source": [
    "Student Grades\n",
    "Input: List of students with scores: [('Alice', 85), ('Bob', 90), ('Alice', 95)]\n",
    "Output: {'Alice': [85, 95], 'Bob': [90]}\n",
    "(Group scores of each student in a dictionary.)"
   ]
  },
  {
   "cell_type": "code",
   "execution_count": null,
   "id": "1109ef13",
   "metadata": {},
   "outputs": [
    {
     "name": "stdout",
     "output_type": "stream",
     "text": [
      "{'Alice': [85, 95], 'Bob': [90]}\n"
     ]
    }
   ],
   "source": [
    "data= [('Alice', 85), ('Bob', 90), ('Alice', 95)]\n",
    "grades={}\n",
    "\n",
    "for name, score in data:\n",
    "    if name not in grades:\n",
    "        grades[name]=[]# this will creates the key with Alice and asign empty list 'Alice':[]\n",
    "    grades[name].append(score)#this will creates key Alice and value as 85 which will be 'Alice':[85]\n",
    "\n",
    "print(grades)"
   ]
  },
  {
   "cell_type": "code",
   "execution_count": 256,
   "id": "eeeb05a8",
   "metadata": {},
   "outputs": [
    {
     "name": "stdout",
     "output_type": "stream",
     "text": [
      "{('Alice', 85): [1], ('Bob', 90): [1], ('Alice', 95): [1]}\n"
     ]
    }
   ],
   "source": [
    "data= [('Alice', 85), ('Bob', 90), ('Alice', 95)]\n",
    "grades={}\n",
    "\n",
    "for name in data:\n",
    " grades[name]=[1]\n",
    "print(grades)"
   ]
  },
  {
   "cell_type": "markdown",
   "id": "02e5b248",
   "metadata": {},
   "source": [
    "Create a Dictionary from Two Lists\n",
    "Input:\n",
    "keys = ['name', 'age', 'city']\n",
    "values = ['Alice', 25, 'New York']\n",
    "\n",
    "Output:\n",
    "{'name': 'Alice', 'age': 25, 'city': 'New York'}"
   ]
  },
  {
   "cell_type": "code",
   "execution_count": 269,
   "id": "ba4adf8d",
   "metadata": {},
   "outputs": [
    {
     "name": "stdout",
     "output_type": "stream",
     "text": [
      "{'name': 'Alice', 'age': 25, 'city': 'New York'}\n"
     ]
    }
   ],
   "source": [
    "keys=['name', 'age', 'city']\n",
    "values = ['Alice', 25, 'New York'] # both have the same lenth\n",
    "info={}\n",
    "for i in range(len(keys)):\n",
    "    info[keys[i]]=values[i]\n",
    "\n",
    "print(info)"
   ]
  },
  {
   "cell_type": "markdown",
   "id": "e997b798",
   "metadata": {},
   "source": [
    "Count Frequency of Each Character in a String\n",
    "Input: \"banana\"\n",
    "\n",
    "Output: {'b': 1, 'a': 3, 'n': 2}"
   ]
  },
  {
   "cell_type": "code",
   "execution_count": 283,
   "id": "dcb1417d",
   "metadata": {},
   "outputs": [
    {
     "name": "stdout",
     "output_type": "stream",
     "text": [
      "{'b': 1, 'a': 3, 'n': 2}\n"
     ]
    }
   ],
   "source": [
    "name=\"banana\"\n",
    "char={}\n",
    "for i in name:\n",
    "    char[i]=char.get(i, 0) +  1\n",
    "       \n",
    "print(char)"
   ]
  },
  {
   "cell_type": "markdown",
   "id": "270804b1",
   "metadata": {},
   "source": [
    "Find the Word with Maximum Frequency in a Sentence\n",
    "Input: \"this is a test this is only a test\"\n",
    "\n",
    "Output: \"this\" (it appears 2 times, the most)"
   ]
  },
  {
   "cell_type": "code",
   "execution_count": 295,
   "id": "2a196bd0",
   "metadata": {},
   "outputs": [
    {
     "name": "stdout",
     "output_type": "stream",
     "text": [
      "['this', 'is', 'a', 'test', 'this', 'is', 'only', 'a', 'test']\n",
      "this\n",
      "is\n",
      "a\n",
      "test\n",
      "this\n",
      "is\n",
      "only\n",
      "a\n",
      "test\n",
      "{'this': 2, 'is': 2, 'a': 2, 'test': 2, 'only': 1}\n"
     ]
    }
   ],
   "source": [
    "sent=\"this is a test this is only a test\"\n",
    "words = sent.split()\n",
    "print(words)\n",
    "max={}\n",
    "for i in words:\n",
    "    print(i)\n",
    "    if i is not max:\n",
    "        max[i]=max.get(i,0) + 1\n",
    "print(max)\n",
    "\n"
   ]
  }
 ],
 "metadata": {
  "kernelspec": {
   "display_name": "base",
   "language": "python",
   "name": "python3"
  },
  "language_info": {
   "codemirror_mode": {
    "name": "ipython",
    "version": 3
   },
   "file_extension": ".py",
   "mimetype": "text/x-python",
   "name": "python",
   "nbconvert_exporter": "python",
   "pygments_lexer": "ipython3",
   "version": "3.12.7"
  }
 },
 "nbformat": 4,
 "nbformat_minor": 5
}
