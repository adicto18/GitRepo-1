{
 "cells": [
  {
   "cell_type": "code",
   "execution_count": 1,
   "id": "d84a5f50",
   "metadata": {},
   "outputs": [
    {
     "name": "stdout",
     "output_type": "stream",
     "text": [
      "First person name is : Monal, second person name is : Shoban, third person name is : Pavan\n"
     ]
    }
   ],
   "source": [
    "name_1 = \"Monal\"\n",
    "name_2 = \"Shoban\"\n",
    "name_3 = \"Pavan\"\n",
    "## Via .format()\n",
    "\n",
    "print(f\"First person name is : {name_1}, second person name is : {name_2}, third person name is : {name_3}\")"
   ]
  },
  {
   "cell_type": "code",
   "execution_count": 6,
   "id": "8616453c",
   "metadata": {},
   "outputs": [],
   "source": [
    "def simple_decorator(func):\n",
    "    def wrapper():\n",
    "        print(\"before the function runs\")\n",
    "        func()\n",
    "        print(\"after the function runs\")\n",
    "    return wrapper"
   ]
  },
  {
   "cell_type": "code",
   "execution_count": 8,
   "id": "1e9f13b8",
   "metadata": {},
   "outputs": [],
   "source": [
    "@simple_decorator\n",
    "def say_hello():\n",
    "    print(\"hello!\")"
   ]
  },
  {
   "cell_type": "code",
   "execution_count": 9,
   "id": "2fa04996",
   "metadata": {},
   "outputs": [
    {
     "name": "stdout",
     "output_type": "stream",
     "text": [
      "before the function runs\n",
      "hello!\n",
      "after the function runs\n"
     ]
    }
   ],
   "source": [
    "say_hello()"
   ]
  },
  {
   "cell_type": "code",
   "execution_count": 10,
   "id": "e9c759b4",
   "metadata": {},
   "outputs": [],
   "source": [
    "def dec(abc):\n",
    "    def adicto():\n",
    "        print(\"I am a great learner\")\n",
    "        abc()\n",
    "        print(\"i love meditation\")\n",
    "    return adicto\n",
    "    "
   ]
  },
  {
   "cell_type": "code",
   "execution_count": 11,
   "id": "445ba878",
   "metadata": {},
   "outputs": [],
   "source": [
    "@dec\n",
    "def medi():\n",
    "    print(\"beacuase\")"
   ]
  },
  {
   "cell_type": "code",
   "execution_count": 12,
   "id": "73feea95",
   "metadata": {},
   "outputs": [
    {
     "name": "stdout",
     "output_type": "stream",
     "text": [
      "I am a great learner\n",
      "beacuase\n",
      "i love meditation\n"
     ]
    }
   ],
   "source": [
    "medi()"
   ]
  },
  {
   "cell_type": "code",
   "execution_count": null,
   "id": "84c42fd3",
   "metadata": {},
   "outputs": [],
   "source": [
    "def deco(abc):\n",
    "    def wrapper():\n",
    "        result=abc()\n",
    "        return result.upper()\n",
    "    return wrapper\n",
    "\n",
    "@deco\n",
    "def greet():\n",
    "    return \"good mroning\"\n"
   ]
  },
  {
   "cell_type": "code",
   "execution_count": 28,
   "id": "deb8b4f0",
   "metadata": {},
   "outputs": [
    {
     "name": "stdout",
     "output_type": "stream",
     "text": [
      "GOOD MRONING\n"
     ]
    }
   ],
   "source": [
    "print(greet())"
   ]
  },
  {
   "cell_type": "code",
   "execution_count": null,
   "id": "01d19a4e",
   "metadata": {},
   "outputs": [],
   "source": [
    "class Car:\n",
    "    def __init__(self, man, mod, ):\n",
    "    "
   ]
  }
 ],
 "metadata": {
  "kernelspec": {
   "display_name": "base",
   "language": "python",
   "name": "python3"
  },
  "language_info": {
   "codemirror_mode": {
    "name": "ipython",
    "version": 3
   },
   "file_extension": ".py",
   "mimetype": "text/x-python",
   "name": "python",
   "nbconvert_exporter": "python",
   "pygments_lexer": "ipython3",
   "version": "3.12.7"
  }
 },
 "nbformat": 4,
 "nbformat_minor": 5
}
