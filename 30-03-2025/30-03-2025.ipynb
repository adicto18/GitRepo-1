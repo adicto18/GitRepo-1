{
 "cells": [
  {
   "cell_type": "code",
   "execution_count": 1,
   "id": "2819c22f",
   "metadata": {},
   "outputs": [
    {
     "data": {
      "text/plain": [
       "2"
      ]
     },
     "execution_count": 1,
     "metadata": {},
     "output_type": "execute_result"
    }
   ],
   "source": [
    "1+1"
   ]
  },
  {
   "cell_type": "markdown",
   "id": "fcc5207a",
   "metadata": {},
   "source": [
    "#abc\n",
    "## abc"
   ]
  },
  {
   "cell_type": "markdown",
   "id": "23c75443",
   "metadata": {},
   "source": [
    "######abc"
   ]
  },
  {
   "cell_type": "markdown",
   "id": "ed185e16",
   "metadata": {},
   "source": [
    "###abc"
   ]
  },
  {
   "cell_type": "markdown",
   "id": "a0153258",
   "metadata": {},
   "source": []
  },
  {
   "cell_type": "markdown",
   "id": "bb3a66c8",
   "metadata": {},
   "source": [
    "##### abc\n"
   ]
  },
  {
   "cell_type": "markdown",
   "id": "023b5cc8",
   "metadata": {},
   "source": []
  },
  {
   "cell_type": "code",
   "execution_count": 23,
   "id": "faf3b82b",
   "metadata": {},
   "outputs": [],
   "source": [
    "a=2\n",
    "b=5"
   ]
  },
  {
   "cell_type": "code",
   "execution_count": 43,
   "id": "697a22ed",
   "metadata": {},
   "outputs": [
    {
     "name": "stdout",
     "output_type": "stream",
     "text": [
      "abc\n",
      "2.0\n",
      "5\n",
      "<class 'float'> 0.4\n"
     ]
    }
   ],
   "source": [
    "print (\"abc\")\n",
    "type(1+1)\n",
    "print(str(float(int(1+1))))\n",
    "print(1+                      4)\n",
    "print(type(a/b),a/b)\n",
    "c=\"1\"\n",
    "d=\"3\"\n"
   ]
  },
  {
   "cell_type": "code",
   "execution_count": null,
   "id": "7970c4e1",
   "metadata": {},
   "outputs": [],
   "source": []
  },
  {
   "cell_type": "code",
   "execution_count": 10,
   "id": "af2c422b",
   "metadata": {},
   "outputs": [
    {
     "name": "stdout",
     "output_type": "stream",
     "text": [
      "<class 'str'> 3\n"
     ]
    }
   ],
   "source": [
    "xyz=1\n",
    "xyz=input(int(xyz))\n",
    "print(type(xyz),xyz)"
   ]
  },
  {
   "cell_type": "code",
   "execution_count": 12,
   "id": "a4c46c87",
   "metadata": {},
   "outputs": [
    {
     "name": "stdout",
     "output_type": "stream",
     "text": [
      "vivek\n"
     ]
    }
   ],
   "source": [
    "name=\"vivek                 \"\n",
    "name=name.rstrip()\n",
    "print(name)"
   ]
  },
  {
   "cell_type": "code",
   "execution_count": 14,
   "id": "27b5e280",
   "metadata": {},
   "outputs": [
    {
     "name": "stdout",
     "output_type": "stream",
     "text": [
      "2 2.5 2.5 8 6 3.142857142857143 3 11 h e\n"
     ]
    }
   ],
   "source": [
    "print(int(5/2),float(5/2),5/2,2**3,2*3,22/7\n",
    ",22//7,\"1\"+\"1\",\"h\"+\" e\")"
   ]
  },
  {
   "cell_type": "code",
   "execution_count": 17,
   "id": "f6142d82",
   "metadata": {},
   "outputs": [
    {
     "name": "stdout",
     "output_type": "stream",
     "text": [
      "2\n"
     ]
    }
   ],
   "source": [
    "print(7%5)"
   ]
  },
  {
   "cell_type": "code",
   "execution_count": 16,
   "id": "84ec6eb2",
   "metadata": {},
   "outputs": [
    {
     "name": "stdout",
     "output_type": "stream",
     "text": [
      "1\n"
     ]
    }
   ],
   "source": [
    "print(5%2)"
   ]
  },
  {
   "cell_type": "code",
   "execution_count": 18,
   "id": "d9ef99ec",
   "metadata": {},
   "outputs": [
    {
     "name": "stdout",
     "output_type": "stream",
     "text": [
      "3\n"
     ]
    }
   ],
   "source": [
    "print(7//2)"
   ]
  },
  {
   "cell_type": "code",
   "execution_count": 27,
   "id": "374b3ab2",
   "metadata": {},
   "outputs": [
    {
     "name": "stdout",
     "output_type": "stream",
     "text": [
      "vivek\n"
     ]
    }
   ],
   "source": [
    "first_name=\"vivek          \"\n",
    "first_name=first_name.rstrip()\n",
    "print(first_name)"
   ]
  },
  {
   "cell_type": "code",
   "execution_count": 29,
   "id": "7058c1a1",
   "metadata": {},
   "outputs": [
    {
     "name": "stdout",
     "output_type": "stream",
     "text": [
      "vivek\n"
     ]
    }
   ],
   "source": [
    "first_name=\"             vivek\"\n",
    "first_name=first_name.lstrip()\n",
    "print(first_name)"
   ]
  },
  {
   "cell_type": "code",
   "execution_count": 32,
   "id": "c686faa4",
   "metadata": {},
   "outputs": [
    {
     "name": "stdout",
     "output_type": "stream",
     "text": [
      "vivek\n"
     ]
    }
   ],
   "source": [
    "first_name=\"             vivek       \"\n",
    "first_name=first_name.strip()\n",
    "print(first_name)"
   ]
  }
 ],
 "metadata": {
  "kernelspec": {
   "display_name": "base",
   "language": "python",
   "name": "python3"
  },
  "language_info": {
   "codemirror_mode": {
    "name": "ipython",
    "version": 3
   },
   "file_extension": ".py",
   "mimetype": "text/x-python",
   "name": "python",
   "nbconvert_exporter": "python",
   "pygments_lexer": "ipython3",
   "version": "3.12.7"
  }
 },
 "nbformat": 4,
 "nbformat_minor": 5
}
