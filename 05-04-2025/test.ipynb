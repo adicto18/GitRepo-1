{
 "cells": [
  {
   "cell_type": "markdown",
   "id": "4fc7863a",
   "metadata": {},
   "source": [
    "# arithmatic operator"
   ]
  },
  {
   "cell_type": "code",
   "execution_count": 21,
   "id": "00ec5c17",
   "metadata": {},
   "outputs": [
    {
     "name": "stdout",
     "output_type": "stream",
     "text": [
      "3\n"
     ]
    }
   ],
   "source": [
    "a=2\n",
    "a+=1\n",
    "#a=a+1\n",
    "print(a)"
   ]
  },
  {
   "cell_type": "code",
   "execution_count": 2,
   "id": "4207e560",
   "metadata": {},
   "outputs": [
    {
     "name": "stdout",
     "output_type": "stream",
     "text": [
      "3\n"
     ]
    }
   ],
   "source": [
    "a+=1\n",
    "#a=a+1\n",
    "print(a)"
   ]
  },
  {
   "cell_type": "code",
   "execution_count": 16,
   "id": "d2cf4413",
   "metadata": {},
   "outputs": [
    {
     "name": "stdout",
     "output_type": "stream",
     "text": [
      "17\n"
     ]
    }
   ],
   "source": [
    "a+=1\n",
    "#a=a+1\n",
    "print(a)"
   ]
  },
  {
   "cell_type": "code",
   "execution_count": 26,
   "id": "3a396562",
   "metadata": {},
   "outputs": [
    {
     "name": "stdout",
     "output_type": "stream",
     "text": [
      "-2\n"
     ]
    }
   ],
   "source": [
    "a-=1\n",
    "#a=a-1\n",
    "print(a)"
   ]
  },
  {
   "cell_type": "code",
   "execution_count": null,
   "id": "7f288501",
   "metadata": {},
   "outputs": [
    {
     "name": "stdout",
     "output_type": "stream",
     "text": [
      "1.0\n"
     ]
    }
   ],
   "source": [
    "a=2\n",
    "a/=2\n",
    "#a/=2 meaning a/2\n",
    "print(a)"
   ]
  },
  {
   "cell_type": "code",
   "execution_count": 31,
   "id": "e9f26dc0",
   "metadata": {},
   "outputs": [
    {
     "name": "stdout",
     "output_type": "stream",
     "text": [
      "3\n"
     ]
    }
   ],
   "source": [
    "a=10\n",
    "a//=3\n",
    "#a//=3 floor division which will give the lowest nearest value \n",
    "print(a)"
   ]
  },
  {
   "cell_type": "markdown",
   "id": "8317c330",
   "metadata": {},
   "source": [
    "# comparsion operator"
   ]
  },
  {
   "cell_type": "code",
   "execution_count": 35,
   "id": "c4cf0d3e",
   "metadata": {},
   "outputs": [
    {
     "name": "stdout",
     "output_type": "stream",
     "text": [
      "False\n",
      "True\n",
      "False\n",
      "True\n",
      "True\n",
      "False\n"
     ]
    }
   ],
   "source": [
    "a=2\n",
    "b=3\n",
    "print(a > b)\n",
    "print(a < b)\n",
    "print(a >= b)\n",
    "print(a <= b)\n",
    "print(a != b)\n",
    "print(a == b)"
   ]
  },
  {
   "cell_type": "markdown",
   "id": "0ec65b6c",
   "metadata": {},
   "source": [
    "# logical operator"
   ]
  },
  {
   "cell_type": "code",
   "execution_count": 44,
   "id": "8734f064",
   "metadata": {},
   "outputs": [
    {
     "name": "stdout",
     "output_type": "stream",
     "text": [
      "False\n",
      "True\n",
      "False\n"
     ]
    }
   ],
   "source": [
    "a=2\n",
    "b=3\n",
    "c=10\n",
    "d=20\n",
    "print((a > b) and (c < d))\n",
    "print((a > b) or (c < d))\n",
    "print(not (c < d))"
   ]
  },
  {
   "cell_type": "markdown",
   "id": "21054e58",
   "metadata": {},
   "source": [
    "# controlled flow"
   ]
  },
  {
   "cell_type": "code",
   "execution_count": 58,
   "id": "33ed1bd2",
   "metadata": {},
   "outputs": [
    {
     "name": "stdout",
     "output_type": "stream",
     "text": [
      "welcome attendee\n"
     ]
    }
   ],
   "source": [
    "name = \"vijay\"\n",
    "if name == \"monal\":\n",
    "    print(\"welcome instrinstructor\")\n",
    "else :\n",
    "    print(\"welcome attendee\") "
   ]
  },
  {
   "cell_type": "code",
   "execution_count": 61,
   "id": "542fd766",
   "metadata": {},
   "outputs": [
    {
     "name": "stdout",
     "output_type": "stream",
     "text": [
      "welcome attendee\n"
     ]
    }
   ],
   "source": [
    "name = input(name)\n",
    "if name == \"monal\":\n",
    "    print(\"welcome instrinstructor\")\n",
    "elif name==\"vivek\":\n",
    "    print(\"welcome genius\")\n",
    "else :\n",
    "    print(\"welcome attendee\") "
   ]
  },
  {
   "cell_type": "code",
   "execution_count": 3,
   "id": "7c2739b0",
   "metadata": {},
   "outputs": [
    {
     "name": "stdout",
     "output_type": "stream",
     "text": [
      "go home\n"
     ]
    }
   ],
   "source": [
    "money = int(input(\"Enter Amount: \"))\n",
    "time=int(input(\"Enter Time: \"))\n",
    "if (money>200) and (time<7):\n",
    "    print(\"go to theme park\")\n",
    "elif(money>200) and (time>7):\n",
    "    print(\"go home\")\n",
    "elif(money<200) and (time>7):\n",
    "    print(\"go to icecream parlour\")\n",
    "else:\n",
    "    print(\"go beach\")\n"
   ]
  },
  {
   "cell_type": "code",
   "execution_count": 11,
   "id": "a0c8d105",
   "metadata": {},
   "outputs": [
    {
     "name": "stdout",
     "output_type": "stream",
     "text": [
      "go home\n"
     ]
    }
   ],
   "source": [
    "money = int(input(\"Enter Amount: \"))\n",
    "time=int(input(\"Enter Time: \"))\n",
    "if money>=200:\n",
    "    if (time<7):\n",
    "        print(\"go to theme park\")\n",
    "    else:\n",
    "        print(\"go home\")\n",
    "else:\n",
    "    if (time>7):\n",
    "        print(\"go to icecream parlour\")\n",
    "    else:\n",
    "        print(\"go beach\")\n"
   ]
  }
 ],
 "metadata": {
  "kernelspec": {
   "display_name": "base",
   "language": "python",
   "name": "python3"
  },
  "language_info": {
   "codemirror_mode": {
    "name": "ipython",
    "version": 3
   },
   "file_extension": ".py",
   "mimetype": "text/x-python",
   "name": "python",
   "nbconvert_exporter": "python",
   "pygments_lexer": "ipython3",
   "version": "3.12.7"
  }
 },
 "nbformat": 4,
 "nbformat_minor": 5
}
