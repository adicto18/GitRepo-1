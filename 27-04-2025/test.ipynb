{
 "cells": [
  {
   "cell_type": "markdown",
   "id": "6419576c",
   "metadata": {},
   "source": [
    "# OOP (class and objects intro)"
   ]
  },
  {
   "cell_type": "markdown",
   "id": "92abeb58",
   "metadata": {},
   "source": []
  },
  {
   "cell_type": "code",
   "execution_count": null,
   "id": "4ed00814",
   "metadata": {},
   "outputs": [],
   "source": [
    "#car\n",
    "#-customer name\n",
    "#-brand\n",
    "#-color\n",
    "#-type -> sedan, hatchback,SUV\n",
    "\n",
    "\n",
    "#constructer initialize the date like, date, user_name_otherdetails\n",
    "class Car():\n",
    "    def customer_name(self):\n",
    "        pass\n",
    "    def brand(self):\n",
    "        pass\n",
    "    def color(self):\n",
    "        pass\n",
    "    def type(self):\n",
    "        pass\n",
    "\n",
    "class CarMenu2():\n",
    "    def customer_name(self):\n",
    "        pass\n",
    "    def brand(self):\n",
    "        pass\n",
    "    def color(self):\n",
    "        pass\n",
    "    def type(self):\n",
    "        pass\n",
    "\n",
    "\n",
    "\n",
    "\n",
    "\n",
    "\n",
    "\n",
    "\n",
    "\n",
    "\n"
   ]
  },
  {
   "cell_type": "code",
   "execution_count": 13,
   "id": "e651786b",
   "metadata": {},
   "outputs": [],
   "source": [
    "class Car():\n",
    "    def customer_name(self, name):\n",
    "        print(name)\n",
    "    def customer_name(self, brand):\n",
    "        print(brand)\n",
    "    def customer_name(self, color):\n",
    "        print(color)\n",
    "    def customer_name(self, type_of_car):\n",
    "        print(type_of_car)\n",
    "\n",
    "\n"
   ]
  },
  {
   "cell_type": "code",
   "execution_count": 14,
   "id": "5a5eede4",
   "metadata": {},
   "outputs": [
    {
     "data": {
      "text/plain": [
       "1538961737344"
      ]
     },
     "execution_count": 14,
     "metadata": {},
     "output_type": "execute_result"
    }
   ],
   "source": [
    "car_var=Car()\n",
    "id(car_var)"
   ]
  },
  {
   "cell_type": "code",
   "execution_count": 15,
   "id": "f9c00953",
   "metadata": {},
   "outputs": [
    {
     "name": "stdout",
     "output_type": "stream",
     "text": [
      "vivek\n"
     ]
    },
    {
     "data": {
      "text/plain": [
       "1538961737344"
      ]
     },
     "execution_count": 15,
     "metadata": {},
     "output_type": "execute_result"
    }
   ],
   "source": [
    "car_var.customer_name(\"vivek\")\n",
    "id(car_var)"
   ]
  },
  {
   "cell_type": "code",
   "execution_count": 30,
   "id": "f899a151",
   "metadata": {},
   "outputs": [],
   "source": [
    "class Mobile():\n",
    "\n",
    "    def __init__(self, manu_name, os_version, cu_name):\n",
    "        self.manu_name = manu_name\n",
    "        self.os_version = os_version\n",
    "        self.cu_name = cu_name\n",
    "    def get_cu_name(self):\n",
    "        print(self.cu_name)"
   ]
  },
  {
   "cell_type": "code",
   "execution_count": 31,
   "id": "df55a28b",
   "metadata": {},
   "outputs": [],
   "source": [
    "cu_1 = Mobile(\"apple\", \"IOS\", \"vivek\")\n",
    "cu_2 = Mobile(\"apple\", \"IOS\", \"VP\")\n",
    "cu_3 = Mobile(\"apple\", \"IOS\", \"Adicto\")\n"
   ]
  },
  {
   "cell_type": "code",
   "execution_count": 33,
   "id": "b571c648",
   "metadata": {},
   "outputs": [
    {
     "name": "stdout",
     "output_type": "stream",
     "text": [
      "vivek\n",
      "VP\n",
      "Adicto\n"
     ]
    }
   ],
   "source": [
    "cu_1.get_cu_name()\n",
    "cu_2.get_cu_name()\n",
    "cu_3.get_cu_name()"
   ]
  }
 ],
 "metadata": {
  "kernelspec": {
   "display_name": "base",
   "language": "python",
   "name": "python3"
  },
  "language_info": {
   "codemirror_mode": {
    "name": "ipython",
    "version": 3
   },
   "file_extension": ".py",
   "mimetype": "text/x-python",
   "name": "python",
   "nbconvert_exporter": "python",
   "pygments_lexer": "ipython3",
   "version": "3.12.7"
  }
 },
 "nbformat": 4,
 "nbformat_minor": 5
}
