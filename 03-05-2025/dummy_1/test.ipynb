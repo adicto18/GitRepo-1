{
 "cells": [
  {
   "cell_type": "code",
   "execution_count": 6,
   "id": "6742d221",
   "metadata": {},
   "outputs": [],
   "source": [
    "import os\n",
    "import sys"
   ]
  },
  {
   "cell_type": "code",
   "execution_count": 7,
   "id": "be676e99",
   "metadata": {},
   "outputs": [],
   "source": [
    "sys.path.append(\"C:/Users/vivekOneDrive-Vivek_Yahoo/Desktop/KrishNaik AI/Python/Mastering Python/03-05-2025/\")"
   ]
  },
  {
   "cell_type": "markdown",
   "id": "46dd8d03",
   "metadata": {},
   "source": [
    "# polymorphism"
   ]
  },
  {
   "cell_type": "code",
   "execution_count": 7,
   "id": "3507fa9e",
   "metadata": {},
   "outputs": [],
   "source": [
    "class TV:\n",
    "    def turn_on(self):\n",
    "        print(\"TV is now ON.\")\n",
    "class AC:\n",
    "    def turn_on(self):\n",
    "        print(\"AC is now ON.\")"
   ]
  },
  {
   "cell_type": "code",
   "execution_count": 8,
   "id": "1af470d1",
   "metadata": {},
   "outputs": [],
   "source": [
    "def activate(elec_object):\n",
    "    elec_object.turn_on()"
   ]
  },
  {
   "cell_type": "code",
   "execution_count": 9,
   "id": "f2043d39",
   "metadata": {},
   "outputs": [],
   "source": [
    "tv=TV()\n",
    "ac=AC()"
   ]
  },
  {
   "cell_type": "code",
   "execution_count": 11,
   "id": "265f4e6f",
   "metadata": {},
   "outputs": [
    {
     "name": "stdout",
     "output_type": "stream",
     "text": [
      "TV is now ON.\n",
      "AC is now ON.\n"
     ]
    }
   ],
   "source": [
    "activate(tv)\n",
    "activate(ac)"
   ]
  },
  {
   "cell_type": "code",
   "execution_count": null,
   "id": "2482058a",
   "metadata": {},
   "outputs": [],
   "source": []
  }
 ],
 "metadata": {
  "kernelspec": {
   "display_name": "base",
   "language": "python",
   "name": "python3"
  },
  "language_info": {
   "codemirror_mode": {
    "name": "ipython",
    "version": 3
   },
   "file_extension": ".py",
   "mimetype": "text/x-python",
   "name": "python",
   "nbconvert_exporter": "python",
   "pygments_lexer": "ipython3",
   "version": "3.12.7"
  }
 },
 "nbformat": 4,
 "nbformat_minor": 5
}
