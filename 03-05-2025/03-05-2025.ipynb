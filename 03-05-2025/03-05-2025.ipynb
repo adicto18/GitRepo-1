{
 "cells": [
  {
   "cell_type": "code",
   "execution_count": null,
   "id": "40e9a5f1",
   "metadata": {},
   "outputs": [],
   "source": [
    "class Speciality:\n",
    "    def surgeon(self):\n",
    "        print(\"Surgeon Doctor.\")\n",
    "    def neuro(self):\n",
    "        print(\"Neuro Doctor.\")\n",
    "\n",
    "class GeneralHospital(Speciality): #inheritance\n",
    "    def opd(self):\n",
    "        print(\"General Medicine Doctors.\")"
   ]
  },
  {
   "cell_type": "code",
   "execution_count": null,
   "id": "12aa441e",
   "metadata": {},
   "outputs": [],
   "source": [
    "gen_hos = GeneralHospital()#gen_hos is a object"
   ]
  },
  {
   "cell_type": "code",
   "execution_count": 10,
   "id": "5d6a7a4f",
   "metadata": {},
   "outputs": [
    {
     "name": "stdout",
     "output_type": "stream",
     "text": [
      "General Medicine Doctors.\n"
     ]
    }
   ],
   "source": [
    "gen_hos.opd()"
   ]
  },
  {
   "cell_type": "code",
   "execution_count": 11,
   "id": "379f4ffe",
   "metadata": {},
   "outputs": [
    {
     "name": "stdout",
     "output_type": "stream",
     "text": [
      "Surgeon Doctor.\n"
     ]
    }
   ],
   "source": [
    "gen_hos.surgeon()"
   ]
  }
 ],
 "metadata": {
  "kernelspec": {
   "display_name": "base",
   "language": "python",
   "name": "python3"
  },
  "language_info": {
   "codemirror_mode": {
    "name": "ipython",
    "version": 3
   },
   "file_extension": ".py",
   "mimetype": "text/x-python",
   "name": "python",
   "nbconvert_exporter": "python",
   "pygments_lexer": "ipython3",
   "version": "3.12.7"
  }
 },
 "nbformat": 4,
 "nbformat_minor": 5
}
