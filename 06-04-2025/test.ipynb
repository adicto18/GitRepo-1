{
 "cells": [
  {
   "cell_type": "code",
   "execution_count": 6,
   "id": "f69c5bbd",
   "metadata": {},
   "outputs": [
    {
     "name": "stdout",
     "output_type": "stream",
     "text": [
      "item not available\n"
     ]
    }
   ],
   "source": [
    "answer1=input(\"write the item you wanna buy: \")\n",
    "if answer1 == \"fruit\":\n",
    "    answer2=input(\"write the fruit you wanna buy: \")\n",
    "    if answer2 == \"apple\":\n",
    "        print(\"tast completed\")\n",
    "    else:\n",
    "        print(\"task not completed\")\n",
    "else:\n",
    "    print(\"item not available\")"
   ]
  },
  {
   "cell_type": "markdown",
   "id": "ab4fb9b8",
   "metadata": {},
   "source": [
    "# advance data types"
   ]
  },
  {
   "cell_type": "markdown",
   "id": "dc75dec6",
   "metadata": {},
   "source": [
    "#### List Data type"
   ]
  },
  {
   "cell_type": "code",
   "execution_count": null,
   "id": "d0bce5e8",
   "metadata": {},
   "outputs": [],
   "source": [
    "#names = [\"monal\", \"abc\", \"monal\", \"pritesh, 1, 1.0, 12345, true, false\"]"
   ]
  },
  {
   "cell_type": "code",
   "execution_count": 29,
   "id": "98dbce87",
   "metadata": {},
   "outputs": [],
   "source": [
    "names=[]"
   ]
  },
  {
   "cell_type": "code",
   "execution_count": 30,
   "id": "d97ecb1a",
   "metadata": {},
   "outputs": [],
   "source": [
    "names.append(\",\")\n"
   ]
  },
  {
   "cell_type": "code",
   "execution_count": 28,
   "id": "3bc55d43",
   "metadata": {},
   "outputs": [
    {
     "name": "stdout",
     "output_type": "stream",
     "text": [
      "[',']\n"
     ]
    }
   ],
   "source": [
    "print(names)"
   ]
  },
  {
   "cell_type": "code",
   "execution_count": 41,
   "id": "980a6891",
   "metadata": {},
   "outputs": [],
   "source": [
    "a=[0,1,2,3,\"monal\",\"ashar\",\"vivek\"]\n",
    "     "
   ]
  },
  {
   "cell_type": "code",
   "execution_count": 42,
   "id": "89344406",
   "metadata": {},
   "outputs": [
    {
     "data": {
      "text/plain": [
       "7"
      ]
     },
     "execution_count": 42,
     "metadata": {},
     "output_type": "execute_result"
    }
   ],
   "source": [
    "len(a)"
   ]
  },
  {
   "cell_type": "code",
   "execution_count": 45,
   "id": "1d47486f",
   "metadata": {},
   "outputs": [
    {
     "data": {
      "text/plain": [
       "'ashar'"
      ]
     },
     "execution_count": 45,
     "metadata": {},
     "output_type": "execute_result"
    }
   ],
   "source": [
    "a[5]"
   ]
  },
  {
   "cell_type": "code",
   "execution_count": 49,
   "id": "b41c3f4d",
   "metadata": {},
   "outputs": [
    {
     "data": {
      "text/plain": [
       "'vivek'"
      ]
     },
     "execution_count": 49,
     "metadata": {},
     "output_type": "execute_result"
    }
   ],
   "source": [
    "a[6]"
   ]
  },
  {
   "cell_type": "code",
   "execution_count": 50,
   "id": "05c65079",
   "metadata": {},
   "outputs": [
    {
     "data": {
      "text/plain": [
       "5"
      ]
     },
     "execution_count": 50,
     "metadata": {},
     "output_type": "execute_result"
    }
   ],
   "source": [
    "len(\"vivek\")"
   ]
  },
  {
   "cell_type": "code",
   "execution_count": 52,
   "id": "4c0835b2",
   "metadata": {},
   "outputs": [
    {
     "data": {
      "text/plain": [
       "2"
      ]
     },
     "execution_count": 52,
     "metadata": {},
     "output_type": "execute_result"
    }
   ],
   "source": [
    "len(\"55\")"
   ]
  },
  {
   "cell_type": "code",
   "execution_count": 78,
   "id": "83d404a0",
   "metadata": {},
   "outputs": [],
   "source": [
    "b=[\"vivek\",\"50333441\",\"abc\",\"123\"]\n",
    "\n"
   ]
  },
  {
   "cell_type": "code",
   "execution_count": 96,
   "id": "24f348dc",
   "metadata": {},
   "outputs": [
    {
     "data": {
      "text/plain": [
       "4"
      ]
     },
     "execution_count": 96,
     "metadata": {},
     "output_type": "execute_result"
    }
   ],
   "source": [
    "len(b)"
   ]
  },
  {
   "cell_type": "markdown",
   "id": "3347a2bb",
   "metadata": {},
   "source": [
    "## List Slicing"
   ]
  },
  {
   "cell_type": "markdown",
   "id": "67c498bc",
   "metadata": {},
   "source": []
  },
  {
   "cell_type": "code",
   "execution_count": 97,
   "id": "3f63aa79",
   "metadata": {},
   "outputs": [
    {
     "data": {
      "text/plain": [
       "['vivek', '50333441', 'abc', '123']"
      ]
     },
     "execution_count": 97,
     "metadata": {},
     "output_type": "execute_result"
    }
   ],
   "source": [
    "b[0:5]"
   ]
  },
  {
   "cell_type": "code",
   "execution_count": 98,
   "id": "254e636d",
   "metadata": {},
   "outputs": [
    {
     "data": {
      "text/plain": [
       "['vivek', '50333441', 'abc', '123']"
      ]
     },
     "execution_count": 98,
     "metadata": {},
     "output_type": "execute_result"
    }
   ],
   "source": [
    "b[:]"
   ]
  },
  {
   "cell_type": "code",
   "execution_count": 106,
   "id": "566f0f66",
   "metadata": {},
   "outputs": [],
   "source": [
    "names=[]\n",
    "places=[]"
   ]
  },
  {
   "cell_type": "code",
   "execution_count": 115,
   "id": "7b1fdc76",
   "metadata": {},
   "outputs": [
    {
     "name": "stdout",
     "output_type": "stream",
     "text": [
      "['vp', 'vpi', 'vivek', 'vivel']\n",
      "['nd', 'noida', 'noida', 'bhimtal']\n"
     ]
    }
   ],
   "source": [
    "name = input(\"please enter name: \")\n",
    "place = input(\"please enter place: \")\n",
    "names.append(name)\n",
    "places.append(place)\n",
    "print(names)\n",
    "print(places)"
   ]
  },
  {
   "cell_type": "code",
   "execution_count": 118,
   "id": "af85541b",
   "metadata": {},
   "outputs": [
    {
     "name": "stdout",
     "output_type": "stream",
     "text": [
      "vivek\n",
      "i\n"
     ]
    }
   ],
   "source": [
    "i = int(input(\"enter the userid for patient info\"))\n",
    "print(names[i])\n",
    "print(place[i])"
   ]
  },
  {
   "cell_type": "code",
   "execution_count": 124,
   "id": "1b985a90",
   "metadata": {},
   "outputs": [
    {
     "data": {
      "text/plain": [
       "1"
      ]
     },
     "execution_count": 124,
     "metadata": {},
     "output_type": "execute_result"
    }
   ],
   "source": [
    "a=[[0,[0,1,2]]]\n",
    "a[0][1][2]\n",
    "len(a)"
   ]
  }
 ],
 "metadata": {
  "kernelspec": {
   "display_name": "base",
   "language": "python",
   "name": "python3"
  },
  "language_info": {
   "codemirror_mode": {
    "name": "ipython",
    "version": 3
   },
   "file_extension": ".py",
   "mimetype": "text/x-python",
   "name": "python",
   "nbconvert_exporter": "python",
   "pygments_lexer": "ipython3",
   "version": "3.12.7"
  }
 },
 "nbformat": 4,
 "nbformat_minor": 5
}
