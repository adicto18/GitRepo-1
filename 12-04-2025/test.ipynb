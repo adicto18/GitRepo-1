{
 "cells": [
  {
   "cell_type": "code",
   "execution_count": 5,
   "id": "e65e5f55",
   "metadata": {},
   "outputs": [],
   "source": [
    "import ast"
   ]
  },
  {
   "cell_type": "code",
   "execution_count": 7,
   "id": "13124abc",
   "metadata": {},
   "outputs": [
    {
     "name": "stdout",
     "output_type": "stream",
     "text": [
      "['vivek', '35', 'yahoo.com']\n",
      "<class 'list'>\n"
     ]
    }
   ],
   "source": [
    "patient_details=input(\"enter the details: \")\n",
    "patient_details = ast.literal_eval(patient_details)\n",
    "print(patient_details)\n",
    "print(type(patient_details))\n"
   ]
  },
  {
   "cell_type": "code",
   "execution_count": 11,
   "id": "a533cbc8",
   "metadata": {},
   "outputs": [
    {
     "name": "stdout",
     "output_type": "stream",
     "text": [
      "0x7ff865ec29f8\n"
     ]
    }
   ],
   "source": [
    "a=3\n",
    "print(hex(id(a)))"
   ]
  },
  {
   "cell_type": "code",
   "execution_count": 13,
   "id": "67be0645",
   "metadata": {},
   "outputs": [
    {
     "name": "stdout",
     "output_type": "stream",
     "text": [
      "0x7ff865ec2a38\n"
     ]
    }
   ],
   "source": [
    "a=a+1\n",
    "print(hex(id(a)))"
   ]
  },
  {
   "cell_type": "code",
   "execution_count": 5,
   "id": "6ce85cea",
   "metadata": {},
   "outputs": [
    {
     "name": "stdout",
     "output_type": "stream",
     "text": [
      "{1, 2, 3, 5, 6}\n",
      "{1, 2, 3, 5, 6, -1}\n"
     ]
    }
   ],
   "source": [
    "#ordered\n",
    "a={2,1,3,5,6}\n",
    "print(a)\n",
    "a.add(-1)\n",
    "print(a)"
   ]
  },
  {
   "cell_type": "code",
   "execution_count": null,
   "id": "25027642",
   "metadata": {},
   "outputs": [
    {
     "name": "stdout",
     "output_type": "stream",
     "text": [
      "{1, 2, 3, 5, 6}\n",
      "{1, 2, 3, 5, 6, 7}\n"
     ]
    }
   ],
   "source": [
    "#Set is unordered collection of unique objects\n",
    "a={2,1,3,5,6}\n",
    "print(a)\n",
    "a.add(7)\n",
    "print(a)"
   ]
  },
  {
   "cell_type": "code",
   "execution_count": null,
   "id": "44bb6b99",
   "metadata": {},
   "outputs": [
    {
     "name": "stdout",
     "output_type": "stream",
     "text": [
      "{1, 2, 3, 5, 6}\n",
      "{1, 2, 3, 2.5, 5, 6}\n"
     ]
    }
   ],
   "source": [
    "#Set is unordered collection of unique objects\n",
    "a={2,1,3,5,6}\n",
    "print(a)\n",
    "a.add(2.5)\n",
    "print(a)"
   ]
  },
  {
   "cell_type": "markdown",
   "id": "de60a2bf",
   "metadata": {},
   "source": [
    "## More function of list"
   ]
  },
  {
   "cell_type": "code",
   "execution_count": 12,
   "id": "92be6115",
   "metadata": {},
   "outputs": [
    {
     "name": "stdout",
     "output_type": "stream",
     "text": [
      "[1, 2, 3, 4, 7, 9, 76, 788.89, 90]\n"
     ]
    }
   ],
   "source": [
    "#remove dublicate using set and chnage it to list \n",
    "a=[1,1,2,3,4,788.89,9,90,76,7]\n",
    "a=list(set(a))\n",
    "print(a)"
   ]
  },
  {
   "cell_type": "code",
   "execution_count": null,
   "id": "94c96855",
   "metadata": {},
   "outputs": [
    {
     "name": "stdout",
     "output_type": "stream",
     "text": [
      "0x19a0add7480\n",
      "[1, 2, 3]\n",
      "[1, 2, 3, 34, 67, 'hello']\n"
     ]
    },
    {
     "data": {
      "text/plain": [
       "'0x19a0add7480'"
      ]
     },
     "execution_count": 20,
     "metadata": {},
     "output_type": "execute_result"
    }
   ],
   "source": [
    "#extend a.exten(b) for list\n",
    "#update is used for set a.update(b)\n",
    "a=[1,2,3]\n",
    "print(hex(id(a)))\n",
    "print(a)\n",
    "b=[34,67,\"hello\"]\n",
    "a.extend(b)\n",
    "print(a)yes \n",
    "hex(id(a))\n"
   ]
  },
  {
   "cell_type": "markdown",
   "id": "56dbd2dc",
   "metadata": {},
   "source": []
  }
 ],
 "metadata": {
  "kernelspec": {
   "display_name": "base",
   "language": "python",
   "name": "python3"
  },
  "language_info": {
   "codemirror_mode": {
    "name": "ipython",
    "version": 3
   },
   "file_extension": ".py",
   "mimetype": "text/x-python",
   "name": "python",
   "nbconvert_exporter": "python",
   "pygments_lexer": "ipython3",
   "version": "3.12.7"
  }
 },
 "nbformat": 4,
 "nbformat_minor": 5
}
