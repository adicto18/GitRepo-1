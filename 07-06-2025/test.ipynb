{
 "cells": [
  {
   "cell_type": "code",
   "execution_count": 2,
   "id": "6777dbb3",
   "metadata": {},
   "outputs": [],
   "source": [
    "import pandas as pd\n"
   ]
  },
  {
   "cell_type": "code",
   "execution_count": 3,
   "id": "e85cddbf",
   "metadata": {},
   "outputs": [],
   "source": [
    "# array, list, dict, tuple, set, matrix, vector"
   ]
  },
  {
   "cell_type": "markdown",
   "id": "ed07da60",
   "metadata": {},
   "source": [
    "# Series in pandas\n",
    "\n",
    "- its a one dimension labelled array"
   ]
  },
  {
   "cell_type": "code",
   "execution_count": 14,
   "id": "c0ff812c",
   "metadata": {},
   "outputs": [],
   "source": [
    "import pandas as pd"
   ]
  },
  {
   "cell_type": "code",
   "execution_count": 6,
   "id": "e6d1e37e",
   "metadata": {},
   "outputs": [
    {
     "name": "stdout",
     "output_type": "stream",
     "text": [
      "0    10\n",
      "1    20\n",
      "2    30\n",
      "3    40\n",
      "4    50\n",
      "5    60\n",
      "dtype: int64\n"
     ]
    }
   ],
   "source": [
    "s1 = pd.Series([10, 20, 30, 40, 50, 60])\n",
    "print(s1)"
   ]
  },
  {
   "cell_type": "code",
   "execution_count": 8,
   "id": "8590ac1a",
   "metadata": {},
   "outputs": [
    {
     "name": "stdout",
     "output_type": "stream",
     "text": [
      "a    10\n",
      "b    20\n",
      "c    30\n",
      "d    40\n",
      "e    50\n",
      "f    60\n",
      "Name: scores, dtype: int64\n"
     ]
    }
   ],
   "source": [
    "s2 = pd.Series([10, 20, 30, 40, 50, 60], index=['a', 'b', 'c', 'd', 'e', 'f'], name=\"scores\")\n",
    "print(s2)"
   ]
  },
  {
   "cell_type": "code",
   "execution_count": 9,
   "id": "399fc0f1",
   "metadata": {},
   "outputs": [
    {
     "name": "stdout",
     "output_type": "stream",
     "text": [
      "a    10\n",
      "b    20\n",
      "c    30\n",
      "d    40\n",
      "dtype: int64\n"
     ]
    }
   ],
   "source": [
    "#creates series with dict\n",
    "\n",
    "data = {'a':10, 'b':20, 'c':30, 'd':40}\n",
    "s3=pd.Series(data)\n",
    "print(s3)"
   ]
  },
  {
   "cell_type": "code",
   "execution_count": 10,
   "id": "13ec4621",
   "metadata": {},
   "outputs": [],
   "source": [
    "import numpy as np"
   ]
  },
  {
   "cell_type": "code",
   "execution_count": 11,
   "id": "8f6e5806",
   "metadata": {},
   "outputs": [
    {
     "name": "stdout",
     "output_type": "stream",
     "text": [
      "0    10\n",
      "1    20\n",
      "2    30\n",
      "3    40\n",
      "4    50\n",
      "5    60\n",
      "dtype: int32\n"
     ]
    }
   ],
   "source": [
    "np_array = np.array([10, 20, 30, 40, 50, 60])\n",
    "s4=pd.Series(np_array)\n",
    "print(s4)"
   ]
  },
  {
   "cell_type": "code",
   "execution_count": 16,
   "id": "fc385953",
   "metadata": {},
   "outputs": [
    {
     "name": "stdout",
     "output_type": "stream",
     "text": [
      "a      10\n",
      "b    20.9\n",
      "c    True\n",
      "d      40\n",
      "dtype: object\n"
     ]
    }
   ],
   "source": [
    "data = {'a':10, 'b':20.9, 'c':True, 'd':\"40\"}\n",
    "s5=pd.Series(data)\n",
    "print(s5)"
   ]
  },
  {
   "cell_type": "code",
   "execution_count": 17,
   "id": "16775565",
   "metadata": {},
   "outputs": [
    {
     "name": "stdout",
     "output_type": "stream",
     "text": [
      "a      10\n",
      "b      20\n",
      "1    1.11\n",
      "2    True\n",
      "dtype: object\n"
     ]
    }
   ],
   "source": [
    "# create series from dict\n",
    "\n",
    "data = {'a' : 10, 'b' : \"20\", 1 : 1.11, 2 : True}\n",
    "s6 = pd.Series(data)\n",
    "print(s6)"
   ]
  },
  {
   "cell_type": "code",
   "execution_count": 18,
   "id": "40bc6085",
   "metadata": {},
   "outputs": [
    {
     "name": "stdout",
     "output_type": "stream",
     "text": [
      "a    10\n",
      "b    20\n",
      "c    30\n",
      "d    40\n",
      "Name: scores, dtype: int64\n"
     ]
    }
   ],
   "source": [
    "# create series from dict\n",
    "\n",
    "data = {'a' : 10, 'b' : 20, 'c' : 30, 'd' : 40}\n",
    "s7 = pd.Series(data, name='scores')\n",
    "print(s7)"
   ]
  },
  {
   "cell_type": "code",
   "execution_count": 19,
   "id": "8626f913",
   "metadata": {},
   "outputs": [
    {
     "name": "stdout",
     "output_type": "stream",
     "text": [
      "Index(['a', 'b', 'c', 'd'], dtype='object')\n",
      "[10 20 30 40]\n",
      "int64\n",
      "scores\n",
      "(4,)\n"
     ]
    }
   ],
   "source": [
    "print(s7.index)\n",
    "print(s7.values)\n",
    "# dict --> keys and values\n",
    "print(s7.dtypes)\n",
    "print(s7.name)\n",
    "print(s7.shape)"
   ]
  },
  {
   "cell_type": "code",
   "execution_count": 20,
   "id": "44a0788c",
   "metadata": {},
   "outputs": [
    {
     "name": "stdout",
     "output_type": "stream",
     "text": [
      "a    10\n",
      "b    20\n",
      "c    30\n",
      "d    40\n",
      "Name: scores, dtype: int64\n"
     ]
    }
   ],
   "source": [
    "print(s7)"
   ]
  },
  {
   "cell_type": "code",
   "execution_count": 26,
   "id": "df8da114",
   "metadata": {},
   "outputs": [
    {
     "name": "stdout",
     "output_type": "stream",
     "text": [
      "a\n",
      "10\n",
      "Index(['a', 'b', 'c', 'd'], dtype='object')\n",
      "[10 20 30 40]\n"
     ]
    }
   ],
   "source": [
    "print(s7.index[0])\n",
    "print(s7.values[0])\n",
    "print(s7.index)\n",
    "print(s7.values)"
   ]
  },
  {
   "cell_type": "code",
   "execution_count": null,
   "id": "19cb3b80",
   "metadata": {},
   "outputs": [
    {
     "name": "stdout",
     "output_type": "stream",
     "text": [
      "10\n",
      "10\n"
     ]
    }
   ],
   "source": [
    "print(s7.loc[\"a\"])\n",
    "print(s7.iloc[0])"
   ]
  },
  {
   "cell_type": "code",
   "execution_count": null,
   "id": "3dbb689f",
   "metadata": {},
   "outputs": [],
   "source": []
  }
 ],
 "metadata": {
  "kernelspec": {
   "display_name": "base",
   "language": "python",
   "name": "python3"
  },
  "language_info": {
   "codemirror_mode": {
    "name": "ipython",
    "version": 3
   },
   "file_extension": ".py",
   "mimetype": "text/x-python",
   "name": "python",
   "nbconvert_exporter": "python",
   "pygments_lexer": "ipython3",
   "version": "3.12.7"
  }
 },
 "nbformat": 4,
 "nbformat_minor": 5
}
