{
 "cells": [
  {
   "cell_type": "code",
   "execution_count": 1,
   "id": "676c6051",
   "metadata": {},
   "outputs": [
    {
     "name": "stdout",
     "output_type": "stream",
     "text": [
      "0\n",
      "1\n",
      "2\n",
      "3\n",
      "4\n",
      "5\n",
      "6\n",
      "7\n",
      "8\n"
     ]
    }
   ],
   "source": [
    "\n",
    "i = 0\n",
    "while i <= 8:\n",
    "    print(i)\n",
    "    i+=1\n",
    "    "
   ]
  },
  {
   "cell_type": "code",
   "execution_count": 2,
   "id": "3de769a9",
   "metadata": {},
   "outputs": [
    {
     "name": "stdout",
     "output_type": "stream",
     "text": [
      "vivek\n",
      "hello\n"
     ]
    }
   ],
   "source": [
    "while True:\n",
    "    name = input(\"Please enter your name : \")\n",
    "    if name == \"Riyan\":\n",
    "        break\n",
    "    print(name)\n",
    "\n",
    "print(\"hello\")"
   ]
  },
  {
   "cell_type": "code",
   "execution_count": null,
   "id": "4bb1bd9a",
   "metadata": {},
   "outputs": [
    {
     "name": "stdout",
     "output_type": "stream",
     "text": [
      "Riyan\n",
      "hello\n"
     ]
    }
   ],
   "source": [
    "a = True\n",
    "while a:\n",
    "    name = input(\"Please enter your name : \")\n",
    "    if name == \"Riyan\":\n",
    "        a = False\n",
    "    print(name)\n",
    "print(\"hello\")"
   ]
  },
  {
   "cell_type": "code",
   "execution_count": 5,
   "id": "1577a7cb",
   "metadata": {},
   "outputs": [],
   "source": [
    "#def arguments\n",
    "\n",
    "def add(a=0, b=0):\n",
    "    print(a+b)"
   ]
  },
  {
   "cell_type": "code",
   "execution_count": 6,
   "id": "12f948ab",
   "metadata": {},
   "outputs": [
    {
     "name": "stdout",
     "output_type": "stream",
     "text": [
      "1\n"
     ]
    }
   ],
   "source": [
    "add(1)"
   ]
  },
  {
   "cell_type": "code",
   "execution_count": 8,
   "id": "9417f419",
   "metadata": {},
   "outputs": [
    {
     "name": "stdout",
     "output_type": "stream",
     "text": [
      "11\n"
     ]
    }
   ],
   "source": [
    "add(10,1)"
   ]
  },
  {
   "cell_type": "code",
   "execution_count": 10,
   "id": "35d7c972",
   "metadata": {},
   "outputs": [
    {
     "name": "stdout",
     "output_type": "stream",
     "text": [
      "hi\n"
     ]
    }
   ],
   "source": [
    "add(\"h\",\"i\")"
   ]
  },
  {
   "cell_type": "code",
   "execution_count": 11,
   "id": "08062e2c",
   "metadata": {},
   "outputs": [
    {
     "name": "stdout",
     "output_type": "stream",
     "text": [
      "[1, 2]\n"
     ]
    }
   ],
   "source": [
    "add([1],[2])"
   ]
  },
  {
   "cell_type": "code",
   "execution_count": 12,
   "id": "3d2dfa75",
   "metadata": {},
   "outputs": [
    {
     "name": "stdout",
     "output_type": "stream",
     "text": [
      "7\n"
     ]
    }
   ],
   "source": [
    "add(b=7)"
   ]
  },
  {
   "cell_type": "code",
   "execution_count": 14,
   "id": "3bf7d0ee",
   "metadata": {},
   "outputs": [],
   "source": [
    "#*args arguments \n",
    "def add_multiple_values(*args):\n",
    "    sum=0\n",
    "    for val in args:\n",
    "        sum+=val\n",
    "    print(sum)"
   ]
  },
  {
   "cell_type": "code",
   "execution_count": null,
   "id": "d6f2255b",
   "metadata": {},
   "outputs": [],
   "source": [
    "#** is a dictionary"
   ]
  },
  {
   "cell_type": "code",
   "execution_count": 25,
   "id": "bb2811f8",
   "metadata": {},
   "outputs": [
    {
     "name": "stdout",
     "output_type": "stream",
     "text": [
      "<class 'dict'>\n",
      "<class 'int'>\n"
     ]
    }
   ],
   "source": [
    "id = 1\n",
    "patient_info = {}\n",
    "print(type(patient_info))\n",
    "print(type(id))"
   ]
  },
  {
   "cell_type": "code",
   "execution_count": 68,
   "id": "8513dfb6",
   "metadata": {},
   "outputs": [
    {
     "name": "stdout",
     "output_type": "stream",
     "text": [
      "<class 'function'>\n"
     ]
    }
   ],
   "source": [
    "def calculate_bmi(weight_kg, height_cm):\n",
    "    bmi = weight_kg / ((height_cm/100)**2)\n",
    "    return bmi\n",
    "print(type(calculate_bmi))\n"
   ]
  },
  {
   "cell_type": "code",
   "execution_count": 69,
   "id": "cb6e0635",
   "metadata": {},
   "outputs": [],
   "source": [
    "def patient_admission(f_name, l_name, date_ddmmyy, weight_kg, height_cm, country_lower_case):\n",
    "    #print(type(patient_admission)) - this is funcion\n",
    "    global id\n",
    "    global patient_info\n",
    "\n",
    "    patient_info[id] = {}\n",
    "\n",
    "    patient_info[id][\"f_name\"] = f_name\n",
    "    patient_info[id][\"l_name\"] = l_name\n",
    "    patient_info[id][\"date_ddmmyy\"] = date_ddmmyy\n",
    "    patient_info[id][\"weight_kg\"] = weight_kg\n",
    "    patient_info[id][\"height_cm\"] = height_cm\n",
    "    patient_info[id][\"country\"] = country_lower_case\n",
    "    patient_info[id][\"temp_ind\"] = None\n",
    "    patient_info[id][\"temp_others\"] = None\n",
    "    patient_info[id][\"bmi\"] = calculate_bmi(weight_kg, height_cm)\n",
    "\n",
    "    if country_lower_case == \"india\":\n",
    "        patient_info[id][\"temp_ind\"] = float(input(\"Enter patient temperature in celcius : \"))\n",
    "    else :\n",
    "        patient_info[id][\"temp_others\"] = float(input(\"Enter patient temperature in fahrenheit: \"))\n",
    "\n",
    "    # increamenet the id\n",
    "    id+=1\n"
   ]
  },
  {
   "cell_type": "code",
   "execution_count": 67,
   "id": "d1b857b1",
   "metadata": {},
   "outputs": [],
   "source": [
    "def get_patient_details_for_opd(patient_id):\n",
    "    temp = None\n",
    "\n",
    "    if patient_info[patient_id][\"temp_ind\"] is not None:\n",
    "        temp = patient_info[patient_id][\"temp_ind\"]\n",
    "    else :\n",
    "        temp = patient_info[patient_id][\"temp_others\"]\n",
    "\n",
    "    print(\"Patient_id\", list(patient_info.keys())[patient_id-1], \" Patient full_name is : \", patient_info[patient_id][\"f_name\"] + \" \" + patient_info[patient_id][\"l_name\"], \"Patient temperate is : \", temp, \"Patient BMI is : \", patient_info[patient_id][\"bmi\"])"
   ]
  },
  {
   "cell_type": "code",
   "execution_count": null,
   "id": "3be6d758",
   "metadata": {},
   "outputs": [
    {
     "name": "stdout",
     "output_type": "stream",
     "text": [
      "<class 'function'>\n"
     ]
    }
   ],
   "source": [
    "def patient_admission(f_name, l_name, date_ddmmyy, weight_kg, height_cm, country_lower_case):\n",
    "    return patient_admission\n",
    "print(type(patient_admission))\n",
    "print(type(patient_admission))"
   ]
  },
  {
   "cell_type": "code",
   "execution_count": 70,
   "id": "b4a3c08a",
   "metadata": {},
   "outputs": [
    {
     "data": {
      "text/plain": [
       "dict_keys([])"
      ]
     },
     "execution_count": 70,
     "metadata": {},
     "output_type": "execute_result"
    }
   ],
   "source": [
    "patient_info.keys()"
   ]
  },
  {
   "cell_type": "code",
   "execution_count": 73,
   "id": "e234abe4",
   "metadata": {},
   "outputs": [],
   "source": [
    "f_name = input(\"Enter full name : \")\n",
    "l_name = input(\"Enter last name : \")\n",
    "date_ddmmyy = input(\"Enter date in ddmmyy format : \")\n",
    "weight_kg = float(input(\"Enter weight in kg : \"))\n",
    "height_cm = float(input(\"Enter height in cm : \"))\n",
    "country_lower_case = input(\"Enter country in lowercase : \")\n",
    "\n",
    "patient_admission(f_name, l_name, date_ddmmyy, weight_kg, height_cm, country_lower_case)"
   ]
  },
  {
   "cell_type": "code",
   "execution_count": 74,
   "id": "c825772f",
   "metadata": {},
   "outputs": [
    {
     "name": "stdout",
     "output_type": "stream",
     "text": [
      "Patient_id 1  Patient full_name is :  vivek pant Patient temperate is :  37.0 Patient BMI is :  23.148148148148145\n"
     ]
    }
   ],
   "source": [
    "get_patient_details_for_opd(1)"
   ]
  },
  {
   "cell_type": "code",
   "execution_count": 6,
   "id": "a3708d5b",
   "metadata": {},
   "outputs": [
    {
     "name": "stdout",
     "output_type": "stream",
     "text": [
      "    *\n",
      "   ***\n",
      "  *****\n",
      " *******\n"
     ]
    }
   ],
   "source": [
    "i_star=1\n",
    "for i in range(3,-1,-1):\n",
    "    print(\" \"*i, i_star*\"*\")\n",
    "    i_star +=2\n",
    "\n",
    "    "
   ]
  }
 ],
 "metadata": {
  "kernelspec": {
   "display_name": "base",
   "language": "python",
   "name": "python3"
  },
  "language_info": {
   "codemirror_mode": {
    "name": "ipython",
    "version": 3
   },
   "file_extension": ".py",
   "mimetype": "text/x-python",
   "name": "python",
   "nbconvert_exporter": "python",
   "pygments_lexer": "ipython3",
   "version": "3.12.7"
  }
 },
 "nbformat": 4,
 "nbformat_minor": 5
}
